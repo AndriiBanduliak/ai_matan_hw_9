{
  "nbformat": 4,
  "nbformat_minor": 0,
  "metadata": {
    "colab": {
      "provenance": []
    },
    "kernelspec": {
      "name": "python3",
      "display_name": "Python 3"
    },
    "language_info": {
      "name": "python"
    }
  },
  "cells": [
    {
      "cell_type": "markdown",
      "source": [
        "# 1 \n",
        "Даны значения величины заработной платы заемщиков банка (zp) и значения их поведенческого кредитного скоринга (ks): zp = [35, 45, 190, 200, 40, 70, 54, 150, 120, 110], ks = [401, 574, 874, 919, 459, 739, 653, 902, 746, 832]. Используя математические операции, посчитать коэффициенты линейной регрессии, приняв за X заработную плату (то есть, zp - признак), а за y - значения скорингового балла (то есть, ks - целевая переменная). Произвести расчет как с использованием intercept, так и без."
      ],
      "metadata": {
        "id": "lceGqerXAw-I"
      }
    },
    {
      "cell_type": "markdown",
      "source": [
        " с использованием intercept:"
      ],
      "metadata": {
        "id": "odpPMXrjA2w6"
      }
    },
    {
      "cell_type": "code",
      "execution_count": 9,
      "metadata": {
        "colab": {
          "base_uri": "https://localhost:8080/"
        },
        "id": "jEn8AqNsAryl",
        "outputId": "f481bcc9-23fd-4d7e-d782-49a03cccff01"
      },
      "outputs": [
        {
          "output_type": "stream",
          "name": "stdout",
          "text": [
            "Коэффициенты линейной регрессии с использованием intercept: b0 = 444.18, b1 = 2.62\n"
          ]
        }
      ],
      "source": [
        "import numpy as np\n",
        "\n",
        "# Входные данные\n",
        "zp = np.array([35, 45, 190, 200, 40, 70, 54, 150, 120, 110])\n",
        "ks = np.array([401, 574, 874, 919, 459, 739, 653, 902, 746, 832])\n",
        "\n",
        "# Расчет коэффициентов линейной регрессии с использованием intercept\n",
        "X = np.vstack([np.ones(len(zp)), zp]).T\n",
        "B = np.linalg.inv(X.T @ X) @ X.T @ ks\n",
        "b0, b1 = B[0], B[1]\n",
        "\n",
        "# Вывод результатов\n",
        "print(f\"Коэффициенты линейной регрессии с использованием intercept: b0 = {b0:.2f}, b1 = {b1:.2f}\")\n"
      ]
    },
    {
      "cell_type": "markdown",
      "source": [
        "без использования intercept:"
      ],
      "metadata": {
        "id": "9lUffsUlA-2s"
      }
    },
    {
      "cell_type": "code",
      "source": [
        "import numpy as np\n",
        "\n",
        "\n",
        "def linear_regression_no_intercept(x, y):\n",
        "    w = np.sum(x * y) / np.sum(x ** 2)\n",
        "    b = 0\n",
        "    return w, b\n",
        "\n",
        "zp = np.array([35, 45, 190, 200, 40, 70, 54, 150, 120, 110])\n",
        "ks = np.array([401, 574, 874, 919, 459, 739, 653, 902, 746, 832])\n",
        "\n",
        "w, b = linear_regression_no_intercept(zp, ks)\n",
        "print(\"Коэффициент линейной регрессии без intercept: w =\", w, \", b =\", b)\n"
      ],
      "metadata": {
        "colab": {
          "base_uri": "https://localhost:8080/"
        },
        "id": "3TY6LWa8A_nv",
        "outputId": "2e2f484e-d8ab-4f1c-f319-7f69119148f9"
      },
      "execution_count": 10,
      "outputs": [
        {
          "output_type": "stream",
          "name": "stdout",
          "text": [
            "Коэффициент линейной регрессии без intercept: w = 5.889820420132689 , b = 0\n"
          ]
        }
      ]
    },
    {
      "cell_type": "markdown",
      "source": [
        "# 2 \n",
        "Посчитать коэффициент линейной регрессии при заработной плате (zp), используя градиентный спуск (без intercept).\n",
        "zp = [35, 45, 190, 200, 40, 70, 54, 150, 120, 110], ks = [401, 574, 874, 919, 459, 739, 653, 902, 746, 832]"
      ],
      "metadata": {
        "id": "fD3KQnxtBoe0"
      }
    },
    {
      "cell_type": "code",
      "source": [
        "import numpy as np\n",
        "\n",
        "# входные данные\n",
        "X = np.array([[35], [45], [190], [200], [40], [70], [54], [150], [120], [110]])\n",
        "y = np.array([401, 574, 874, 919, 459, 739, 653, 902, 746, 832])\n",
        "\n",
        "# функция градиентного спуска\n",
        "def gradient_descent(X, y, theta, alpha, iterations):\n",
        "    m = len(y)\n",
        "    for i in range(iterations):\n",
        "        # делаем предсказание\n",
        "        y_pred = X.dot(theta)\n",
        "        # вычисляем ошибку\n",
        "        error = y_pred - y\n",
        "        # вычисляем новые значения theta\n",
        "        theta = theta - alpha * (1/m) * X.T.dot(error)\n",
        "    return theta\n",
        "\n",
        "# запускаем функцию градиентного спуска\n",
        "theta = gradient_descent(X, y, np.array([0.5]), 0.0001, 100000)\n",
        "\n",
        "# выводим полученный коэффициент\n",
        "print(theta[0])\n"
      ],
      "metadata": {
        "colab": {
          "base_uri": "https://localhost:8080/"
        },
        "id": "Mt9HhECVCdP5",
        "outputId": "dc64b8ad-3626-4c25-de6c-4f7f8cd7708b"
      },
      "execution_count": 12,
      "outputs": [
        {
          "output_type": "stream",
          "name": "stdout",
          "text": [
            "5.889820420132688\n"
          ]
        }
      ]
    },
    {
      "cell_type": "markdown",
      "source": [
        "# 3\n",
        "Произвести вычисления как в пункте 2, но с вычислением intercept. Учесть, что изменение коэффициентов должно производиться на каждом шаге одновременно (то есть изменение одного коэффициента не должно влиять на изменение другого во время одной итерации)."
      ],
      "metadata": {
        "id": "mRTWYL0fE8Ej"
      }
    },
    {
      "cell_type": "code",
      "source": [
        "import numpy as np\n",
        "import matplotlib.pyplot as plt\n",
        "\n",
        "# задаем данные\n",
        "X = np.array([[35, 1], [45, 1], [190, 1], [200, 1], [40, 1], [70, 1], [54, 1], [150, 1], [120, 1], [110, 1]])\n",
        "y = np.array([401, 574, 874, 919, 459, 739, 653, 902, 746, 832])\n",
        "\n",
        "# задаем начальные значения коэффициентов\n",
        "theta = np.array([0, 0])\n",
        "\n",
        "# задаем скорость обучения\n",
        "alpha = 0.0001\n",
        "\n",
        "# функция градиентного спуска\n",
        "def gradient_descent(X, y, theta, alpha, iterations):\n",
        "    m = len(y)\n",
        "    cost_history = np.zeros(iterations)\n",
        "    for i in range(iterations):\n",
        "        y_pred = X.dot(theta)\n",
        "        error = y_pred - y\n",
        "        theta = theta - (alpha * (1/m) * (X.T.dot(error)))\n",
        "        cost_history[i] = np.sum((X.dot(theta) - y) ** 2) / (2 * m)\n",
        "    return theta, cost_history\n",
        "\n",
        "# запускаем функцию градиентного спуска\n",
        "theta, cost_history = gradient_descent(X, y, theta, alpha, 100000)\n",
        "\n",
        "# выводим полученные коэффициенты\n",
        "print('Коэффициенты линейной регрессии с учетом intercept:', theta)\n",
        "\n",
        "# выводим график функции стоимости\n",
        "plt.plot(cost_history)\n",
        "plt.xlabel('Iterations')\n",
        "plt.ylabel('Cost')\n",
        "plt.show()\n"
      ],
      "metadata": {
        "colab": {
          "base_uri": "https://localhost:8080/",
          "height": 296
        },
        "id": "Cb4rj8ycE-VO",
        "outputId": "7b296962-b705-42c8-87f2-f74aa16c8584"
      },
      "execution_count": 13,
      "outputs": [
        {
          "output_type": "stream",
          "name": "stdout",
          "text": [
            "Коэффициенты линейной регрессии с учетом intercept: [  2.87924752 409.02883842]\n"
          ]
        },
        {
          "output_type": "display_data",
          "data": {
            "text/plain": [
              "<Figure size 432x288 with 1 Axes>"
            ],
            "image/png": "[encoded data removed]"
          },
          "metadata": {
            "needs_background": "light"
          }
        }
      ]
    }
  ]
}